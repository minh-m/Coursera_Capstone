{
 "cells": [
  {
   "cell_type": "markdown",
   "metadata": {
    "collapsed": true
   },
   "source": [
    "# Capstone Project - The Battle of the Neighborhoods (Week 1)\n",
    "### Applied Data Science Capstone Course by IBM/Coursera\n",
    "##### Author: Minh Mai"
   ]
  },
  {
   "cell_type": "markdown",
   "metadata": {},
   "source": [
    "\n",
    "\n",
    "## Introduction <a name=\"introduction\"></a>"
   ]
  },
  {
   "cell_type": "markdown",
   "metadata": {},
   "source": [
    "Berlin is the capital and largest city of Germany by both area and population. It hosts an exciting art and nightlife scene and, best of all, it is very affordable to live in. While looking for an apartment, you can get easily lost in the decision of which neighborhood suits you best.\n",
    "\n",
    "Berlin is divided into 12 different neighbourhoods (Bezirke in German), with each of it having its own vibe and feel. Nevertheless, this project aims to analyze different neighborhoods of Berlin by exploring venues surrounding the public transport stations and describe different clusters of the neighborhoods. The Berlin-all-inclusive public transport system consists of U-Bahn (underground railway), S-Bahn (elevated railway), buses, and trams, which are managed by The Berliner Verkehrsbetriebe (BVG) and the Deutsche Bahn (DB). In the scope of this work I focused on **exploring and clustering venues surrounding the U-Bahn (173) and S-Bahn (166) stations**, which make a total of 339 stations.\n",
    "\n",
    "The result can be useful for someone planning to move to Berlin (for studying, looking for jobs) and would like to find a place that fits their lifestyle and interests.\n",
    "\n",
    "\n",
    "\n"
   ]
  },
  {
   "cell_type": "markdown",
   "metadata": {},
   "source": [
    "## Data <a name=\"data\"></a>"
   ]
  },
  {
   "cell_type": "markdown",
   "metadata": {},
   "source": [
    "Following data sources will be needed to extract and generate the required information:\n",
    "* list of the Berlin U-Bahn stations (173 stations, total route length: 151,7 km) and their geographical coordinates web scraped from \n",
    "[Wikipedia: Liste der Berliner U-Bahnhöfe](https://de.wikipedia.org/wiki/Liste_der_Berliner_U-Bahnh%C3%B6fe).\n",
    "* list of the Berlin S-Bahn stations (166 stations, total route length: 327,4 km) and their geographical coordinates web scraped from \n",
    "[Wikipedia: Liste der Stationen der S-Bahn Berlin](https://de.wikipedia.org/wiki/Liste_der_Stationen_der_S-Bahn_Berlin).\n",
    "\n",
    "In order to explore and cluster the neighborhoods surrounding each U-Bahn and S-Bahn station, Foursquare Venue Data will be deployed. The average distance between two U-Bahn stations is 0,87 km, between two S-Bahn stations is 1,97 km. In order to avoid overlapping and to cover reasonable walking distance around each station, the radius of the query was limited to 500 meters. Therefore:\n",
    "* list of the venue categories on the main level and on lower levels from Foursquare Venue Categories."
   ]
  },
  {
   "cell_type": "code",
   "execution_count": null,
   "metadata": {},
   "outputs": [],
   "source": []
  }
 ],
 "metadata": {
  "kernelspec": {
   "display_name": "Python 3",
   "language": "python",
   "name": "python3"
  },
  "language_info": {
   "codemirror_mode": {
    "name": "ipython",
    "version": 3
   },
   "file_extension": ".py",
   "mimetype": "text/x-python",
   "name": "python",
   "nbconvert_exporter": "python",
   "pygments_lexer": "ipython3",
   "version": "3.7.6"
  }
 },
 "nbformat": 4,
 "nbformat_minor": 1
}
